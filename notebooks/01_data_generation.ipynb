{
 "cells": [
  {
   "cell_type": "markdown",
   "metadata": {},
   "source": [
    "# Synthetic Data Generation for Hybrid Energy System Fault Analysis\n",
    "\n",
    "This notebook generates synthetic data for a hybrid energy system in Kenya, including:\n",
    "- Solar PV System (500 kW)\n",
    "- Diesel Generator (2 MVA)\n",
    "- Battery Storage (1 MWh)\n",
    "- Grid Connection\n",
    "\n",
    "The data includes normal operations and various fault scenarios."
   ]
  },
  {
   "cell_type": "code",
   "execution_count": null,
   "metadata": {},
   "source": [
    "import numpy as np\n",
    "import pandas as pd\n",
    "from datetime import datetime, timedelta\n",
    "import matplotlib.pyplot as plt\n",
    "import seaborn as sns\n",
    "from tqdm import tqdm\n",
    "\n",
    "# Set random seed for reproducibility\n",
    "np.random.seed(42)\n",
    "\n",
    "# Plotting style\n",
    "plt.style.use('seaborn')\n",
    "sns.set_palette('husl')"
   ]
  },
  {
   "cell_type": "markdown",
   "metadata": {},
   "source": [
    "## 1. Generate Time Series Base"
   ]
  },
  {
   "cell_type": "code",
   "execution_count": null,
   "metadata": {},
   "source": [
    "def create_time_index(start_date='2023-01-01', periods_years=2):\n",
    "    \"\"\"\n",
    "    Create hourly datetime index with seasonal information.\n",
    "    \"\"\"\n",
    "    # Generate datetime index\n",
    "    hours = periods_years * 365 * 24\n",
    "    dates = pd.date_range(start=start_date, periods=hours, freq='H')\n",
    "    \n",
    "    # Create DataFrame\n",
    "    df = pd.DataFrame(index=dates)\n",
    "    \n",
    "    # Add temporal features\n",
    "    df['hour'] = df.index.hour\n",
    "    df['day_of_year'] = df.index.dayofyear\n",
    "    \n",
    "    # Add cyclical encoding\n",
    "    df['hour_sin'] = np.sin(2 * np.pi * df['hour'] / 24)\n",
    "    df['hour_cos'] = np.cos(2 * np.pi * df['hour'] / 24)\n",
    "    df['day_sin'] = np.sin(2 * np.pi * df['day_of_year'] / 365)\n",
    "    df['day_cos'] = np.cos(2 * np.pi * df['day_of_year'] / 365)\n",
    "    \n",
    "    # Add Kenyan seasons\n",
    "    def get_season(date):\n",
    "        month = date.month\n",
    "        if 3 <= month <= 5:\n",
    "            return 'long_rains'\n",
    "        elif 10 <= month <= 12:\n",
    "            return 'short_rains'\n",
    "        else:\n",
    "            return 'dry'\n",
    "    \n",
    "    df['season'] = df.index.map(get_season)\n",
    "    \n",
    "    return df\n",
    "\n",
    "# Create base dataframe\n",
    "df = create_time_index()\n",
    "print(f\"Generated time series with {len(df)} hours\")\n",
    "df.head()"
   ]
  }
 ],
 "metadata": {
  "kernelspec": {
   "display_name": "Python 3",
   "language": "python",
   "name": "python3"
  },
  "language_info": {
   "codemirror_mode": {
    "name": "ipython",
    "version": 3
   },
   "file_extension": ".py",
   "mimetype": "text/x-python",
   "name": "python",
   "nbconvert_exporter": "python",
   "pygments_lexer": "ipython3",
   "version": "3.8.0"
  }
 },
 "nbformat": 4,
 "nbformat_minor": 4
}
