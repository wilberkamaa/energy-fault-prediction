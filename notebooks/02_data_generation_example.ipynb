{
 "cells": [
  {
   "cell_type": "markdown",
   "metadata": {},
   "source": [
    "# Hybrid Energy System Data Generation Example\n",
    "\n",
    "This notebook demonstrates how to use the data generation system to create synthetic data for fault prediction."
   ]
  },
  {
   "cell_type": "code",
   "execution_count": null,
   "metadata": {},
   "source": [
    "import sys\n",
    "import os\n",
    "sys.path.append('..')\n",
    "\n",
    "import pandas as pd\n",
    "import numpy as np\n",
    "import matplotlib.pyplot as plt\n",
    "import seaborn as sns\n",
    "from src.data_generator import HybridSystemDataGenerator\n",
    "\n",
    "# Set plotting style\n",
    "plt.style.use('seaborn')\n",
    "sns.set_palette('husl')"
   ]
  },
  {
   "cell_type": "markdown",
   "metadata": {},
   "source": [
    "## Generate Dataset\n",
    "\n",
    "Let's generate a 2-year dataset starting from January 1st, 2023."
   ]
  },
  {
   "cell_type": "code",
   "execution_count": null,
   "metadata": {},
   "source": [
    "# Initialize the generator\n",
    "generator = HybridSystemDataGenerator(seed=42)\n",
    "\n",
    "# Generate dataset\n",
    "df = generator.generate_dataset(\n",
    "    start_date='2023-01-01',\n",
    "    periods_years=2,\n",
    "    output_file='../data/hybrid_system_data.parquet'\n",
    ")\n",
    "\n",
    "print(f\"Generated dataset with {len(df)} rows and {len(df.columns)} features\")\n",
    "print(f\"Memory usage: {df.memory_usage().sum() / 1024**2:.2f} MB\")"
   ]
  },
  {
   "cell_type": "markdown",
   "metadata": {},
   "source": [
    "## Explore Generated Data\n",
    "\n",
    "Let's look at some key aspects of the generated data."
   ]
  },
  {
   "cell_type": "code",
   "execution_count": null,
   "metadata": {},
   "source": [
    "# Plot solar generation vs load demand for a week\n",
    "week_data = df['2023-01-01':'2023-01-07']\n",
    "\n",
    "plt.figure(figsize=(15, 6))\n",
    "plt.plot(week_data.index, week_data['solar_power_output'], label='Solar Output (kW)')\n",
    "plt.plot(week_data.index, week_data['load_active_power'], label='Load Demand (kW)')\n",
    "plt.title('Solar Generation vs Load Demand - First Week of 2023')\n",
    "plt.xlabel('Date')\n",
    "plt.ylabel('Power (kW)')\n",
    "plt.legend()\n",
    "plt.grid(True)\n",
    "plt.show()"
   ]
  },
  {
   "cell_type": "code",
   "execution_count": null,
   "metadata": {},
   "source": [
    "# Plot battery state of charge and fault events\n",
    "plt.figure(figsize=(15, 6))\n",
    "\n",
    "# Plot SOC\n",
    "plt.plot(week_data.index, week_data['battery_soc'] * 100, label='Battery SOC (%)')\n",
    "\n",
    "# Highlight fault periods\n",
    "fault_periods = week_data[week_data['fault_occurred']]\n",
    "plt.scatter(fault_periods.index, fault_periods['battery_soc'] * 100,\n",
    "           color='red', marker='x', s=100, label='Fault Events')\n",
    "\n",
    "plt.title('Battery State of Charge and Fault Events - First Week of 2023')\n",
    "plt.xlabel('Date')\n",
    "plt.ylabel('State of Charge (%)')\n",
    "plt.legend()\n",
    "plt.grid(True)\n",
    "plt.show()"
   ]
  },
  {
   "cell_type": "markdown",
   "metadata": {},
   "source": [
    "## Analyze Fault Distribution\n",
    "\n",
    "Let's look at the distribution of different types of faults in our dataset."
   ]
  },
  {
   "cell_type": "code",
   "execution_count": null,
   "metadata": {},
   "source": [
    "# Count fault occurrences\n",
    "fault_counts = df[df['fault_occurred']]['fault_types'].value_counts()\n",
    "\n",
    "plt.figure(figsize=(12, 6))\n",
    "fault_counts.plot(kind='bar')\n",
    "plt.title('Distribution of Fault Types')\n",
    "plt.xlabel('Fault Type')\n",
    "plt.ylabel('Count')\n",
    "plt.xticks(rotation=45)\n",
    "plt.tight_layout()\n",
    "plt.show()\n",
    "\n",
    "# Print fault statistics\n",
    "total_hours = len(df)\n",
    "fault_hours = df['fault_occurred'].sum()\n",
    "print(f\"Total fault hours: {fault_hours}\")\n",
    "print(f\"System availability: {(1 - fault_hours/total_hours)*100:.2f}%\")"
   ]
  },
  {
   "cell_type": "markdown",
   "metadata": {},
   "source": [
    "## Save Feature Descriptions\n",
    "\n",
    "Let's create a reference of all features in our dataset."
   ]
  },
  {
   "cell_type": "code",
   "execution_count": null,
   "metadata": {},
   "source": [
    "# Create feature descriptions\n",
    "feature_descriptions = pd.DataFrame({\n",
    "    'Feature': df.columns,\n",
    "    'Type': df.dtypes,\n",
    "    'Non_null_count': df.count(),\n",
    "    'Memory_usage': df.memory_usage(deep=True)[1:] / 1024  # KB\n",
    "})\n",
    "\n",
    "# Save to CSV\n",
    "feature_descriptions.to_csv('../data/feature_descriptions.csv')\n",
    "feature_descriptions.head(10)"
   ]
  }
 ],
 "metadata": {
  "kernelspec": {
   "display_name": "Python 3",
   "language": "python",
   "name": "python3"
  },
  "language_info": {
   "codemirror_mode": {
    "name": "ipython",
    "version": 3
   },
   "file_extension": ".py",
   "mimetype": "text/x-python",
   "name": "python",
   "nbconvert_exporter": "python",
   "pygments_lexer": "ipython3",
   "version": "3.8.0"
  }
 },
 "nbformat": 4,
 "nbformat_minor": 4
}
