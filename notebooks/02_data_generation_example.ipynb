{
 "cells": [
  {
   "cell_type": "markdown",
   "metadata": {},
   "source": [
    "# Hybrid Energy System Data Generation Example\n",
    "\n",
    "This notebook demonstrates how to use the data generation system to create synthetic data for fault prediction."
   ]
  },
  {
   "cell_type": "code",
   "execution_count": null,
   "metadata": {},
   "outputs": [],
   "source": [
    "import sys\n",
    "import os\n",
    "sys.path.append('..')\n",
    "\n",
    "import pandas as pd\n",
    "import numpy as np\n",
    "import matplotlib.pyplot as plt\n",
    "import seaborn as sns\n",
    "from src.data_generator import HybridSystemDataGenerator\n",
    "\n",
    "# Set plotting style\n",
    "#plt.style.use('seaborn')\n",
    "sns.set_palette('husl')"
   ]
  },
  {
   "cell_type": "markdown",
   "metadata": {},
   "source": [
    "## Generate Dataset\n",
    "\n",
    "Let's generate a 2-year dataset starting from January 1st, 2023."
   ]
  },
  {
   "cell_type": "code",
   "execution_count": 3,
   "metadata": {},
   "outputs": [
    {
     "name": "stdout",
     "output_type": "stream",
     "text": [
      "Generating time series base...\n",
      "Generating weather conditions...\n"
     ]
    },
    {
     "name": "stderr",
     "output_type": "stream",
     "text": [
      "/home/wilberkamau/CascadeProjects/energy-fault-prediction/notebooks/../src/data_generator.py:51: FutureWarning: 'H' is deprecated and will be removed in a future version, please use 'h' instead.\n",
      "  dates = pd.date_range(start=start_date, periods=hours, freq='H')\n"
     ]
    },
    {
     "name": "stdout",
     "output_type": "stream",
     "text": [
      "Generating load profile...\n"
     ]
    },
    {
     "name": "stderr",
     "output_type": "stream",
     "text": [
      "/home/wilberkamau/CascadeProjects/energy-fault-prediction/notebooks/../src/load_profile.py:77: FutureWarning: Series.__getitem__ treating keys as positions is deprecated. In a future version, integer keys will always be treated as labels (consistent with DataFrame behavior). To access a value by position, use `ser.iloc[pos]`\n",
      "  season = df['season'][i]\n",
      "/home/wilberkamau/CascadeProjects/energy-fault-prediction/notebooks/../src/load_profile.py:106: RuntimeWarning: invalid value encountered in sqrt\n",
      "  reactive_power = np.sqrt(apparent_power**2 - load_demand**2)\n"
     ]
    },
    {
     "name": "stdout",
     "output_type": "stream",
     "text": [
      "Simulating solar PV system...\n"
     ]
    },
    {
     "ename": "KeyError",
     "evalue": "'cloud_cover'",
     "output_type": "error",
     "traceback": [
      "\u001b[31m---------------------------------------------------------------------------\u001b[39m",
      "\u001b[31mKeyError\u001b[39m                                  Traceback (most recent call last)",
      "\u001b[36mFile \u001b[39m\u001b[32m~/CascadeProjects/energy-fault-prediction/venv/lib/python3.13/site-packages/pandas/core/indexes/base.py:3805\u001b[39m, in \u001b[36mIndex.get_loc\u001b[39m\u001b[34m(self, key)\u001b[39m\n\u001b[32m   3804\u001b[39m \u001b[38;5;28;01mtry\u001b[39;00m:\n\u001b[32m-> \u001b[39m\u001b[32m3805\u001b[39m     \u001b[38;5;28;01mreturn\u001b[39;00m \u001b[38;5;28;43mself\u001b[39;49m\u001b[43m.\u001b[49m\u001b[43m_engine\u001b[49m\u001b[43m.\u001b[49m\u001b[43mget_loc\u001b[49m\u001b[43m(\u001b[49m\u001b[43mcasted_key\u001b[49m\u001b[43m)\u001b[49m\n\u001b[32m   3806\u001b[39m \u001b[38;5;28;01mexcept\u001b[39;00m \u001b[38;5;167;01mKeyError\u001b[39;00m \u001b[38;5;28;01mas\u001b[39;00m err:\n",
      "\u001b[36mFile \u001b[39m\u001b[32mindex.pyx:167\u001b[39m, in \u001b[36mpandas._libs.index.IndexEngine.get_loc\u001b[39m\u001b[34m()\u001b[39m\n",
      "\u001b[36mFile \u001b[39m\u001b[32mindex.pyx:196\u001b[39m, in \u001b[36mpandas._libs.index.IndexEngine.get_loc\u001b[39m\u001b[34m()\u001b[39m\n",
      "\u001b[36mFile \u001b[39m\u001b[32mpandas/_libs/hashtable_class_helper.pxi:7081\u001b[39m, in \u001b[36mpandas._libs.hashtable.PyObjectHashTable.get_item\u001b[39m\u001b[34m()\u001b[39m\n",
      "\u001b[36mFile \u001b[39m\u001b[32mpandas/_libs/hashtable_class_helper.pxi:7089\u001b[39m, in \u001b[36mpandas._libs.hashtable.PyObjectHashTable.get_item\u001b[39m\u001b[34m()\u001b[39m\n",
      "\u001b[31mKeyError\u001b[39m: 'cloud_cover'",
      "\nThe above exception was the direct cause of the following exception:\n",
      "\u001b[31mKeyError\u001b[39m                                  Traceback (most recent call last)",
      "\u001b[36mCell\u001b[39m\u001b[36m \u001b[39m\u001b[32mIn[3]\u001b[39m\u001b[32m, line 5\u001b[39m\n\u001b[32m      2\u001b[39m generator = HybridSystemDataGenerator(seed=\u001b[32m42\u001b[39m)\n\u001b[32m      4\u001b[39m \u001b[38;5;66;03m# Generate dataset\u001b[39;00m\n\u001b[32m----> \u001b[39m\u001b[32m5\u001b[39m df = \u001b[43mgenerator\u001b[49m\u001b[43m.\u001b[49m\u001b[43mgenerate_dataset\u001b[49m\u001b[43m(\u001b[49m\n\u001b[32m      6\u001b[39m \u001b[43m    \u001b[49m\u001b[43mstart_date\u001b[49m\u001b[43m=\u001b[49m\u001b[33;43m'\u001b[39;49m\u001b[33;43m2023-01-01\u001b[39;49m\u001b[33;43m'\u001b[39;49m\u001b[43m,\u001b[49m\n\u001b[32m      7\u001b[39m \u001b[43m    \u001b[49m\u001b[43mperiods_years\u001b[49m\u001b[43m=\u001b[49m\u001b[32;43m2\u001b[39;49m\u001b[43m,\u001b[49m\n\u001b[32m      8\u001b[39m \u001b[43m    \u001b[49m\u001b[43moutput_file\u001b[49m\u001b[43m=\u001b[49m\u001b[33;43m'\u001b[39;49m\u001b[33;43m../data/hybrid_system_data.parquet\u001b[39;49m\u001b[33;43m'\u001b[39;49m\n\u001b[32m      9\u001b[39m \u001b[43m)\u001b[49m\n\u001b[32m     11\u001b[39m \u001b[38;5;28mprint\u001b[39m(\u001b[33mf\u001b[39m\u001b[33m\"\u001b[39m\u001b[33mGenerated dataset with \u001b[39m\u001b[38;5;132;01m{\u001b[39;00m\u001b[38;5;28mlen\u001b[39m(df)\u001b[38;5;132;01m}\u001b[39;00m\u001b[33m rows and \u001b[39m\u001b[38;5;132;01m{\u001b[39;00m\u001b[38;5;28mlen\u001b[39m(df.columns)\u001b[38;5;132;01m}\u001b[39;00m\u001b[33m features\u001b[39m\u001b[33m\"\u001b[39m)\n\u001b[32m     12\u001b[39m \u001b[38;5;28mprint\u001b[39m(\u001b[33mf\u001b[39m\u001b[33m\"\u001b[39m\u001b[33mMemory usage: \u001b[39m\u001b[38;5;132;01m{\u001b[39;00mdf.memory_usage().sum()\u001b[38;5;250m \u001b[39m/\u001b[38;5;250m \u001b[39m\u001b[32m1024\u001b[39m**\u001b[32m2\u001b[39m\u001b[38;5;132;01m:\u001b[39;00m\u001b[33m.2f\u001b[39m\u001b[38;5;132;01m}\u001b[39;00m\u001b[33m MB\u001b[39m\u001b[33m\"\u001b[39m)\n",
      "\u001b[36mFile \u001b[39m\u001b[32m~/CascadeProjects/energy-fault-prediction/notebooks/../src/data_generator.py:91\u001b[39m, in \u001b[36mHybridSystemDataGenerator.generate_dataset\u001b[39m\u001b[34m(self, start_date, periods_years, output_file)\u001b[39m\n\u001b[32m     89\u001b[39m \u001b[38;5;28mprint\u001b[39m(\u001b[33m\"\u001b[39m\u001b[33mSimulating solar PV system...\u001b[39m\u001b[33m\"\u001b[39m)\n\u001b[32m     90\u001b[39m \u001b[38;5;66;03m# Generate solar PV output\u001b[39;00m\n\u001b[32m---> \u001b[39m\u001b[32m91\u001b[39m solar_data = \u001b[38;5;28;43mself\u001b[39;49m\u001b[43m.\u001b[49m\u001b[43msolar_sim\u001b[49m\u001b[43m.\u001b[49m\u001b[43mgenerate_output\u001b[49m\u001b[43m(\u001b[49m\u001b[43mdf\u001b[49m\u001b[43m)\u001b[49m\n\u001b[32m     92\u001b[39m \u001b[38;5;28;01mfor\u001b[39;00m key, value \u001b[38;5;129;01min\u001b[39;00m solar_data.items():\n\u001b[32m     93\u001b[39m     df[\u001b[33mf\u001b[39m\u001b[33m'\u001b[39m\u001b[33msolar_\u001b[39m\u001b[38;5;132;01m{\u001b[39;00mkey\u001b[38;5;132;01m}\u001b[39;00m\u001b[33m'\u001b[39m] = value\n",
      "\u001b[36mFile \u001b[39m\u001b[32m~/CascadeProjects/energy-fault-prediction/notebooks/../src/solar_pv.py:60\u001b[39m, in \u001b[36mSolarPVSimulator.generate_output\u001b[39m\u001b[34m(self, df)\u001b[39m\n\u001b[32m     58\u001b[39m \u001b[38;5;250m\u001b[39m\u001b[33;03m\"\"\"Generate PV system output parameters.\"\"\"\u001b[39;00m\n\u001b[32m     59\u001b[39m \u001b[38;5;66;03m# Calculate irradiance\u001b[39;00m\n\u001b[32m---> \u001b[39m\u001b[32m60\u001b[39m irradiance = \u001b[38;5;28;43mself\u001b[39;49m\u001b[43m.\u001b[49m\u001b[43mcalculate_irradiance\u001b[49m\u001b[43m(\u001b[49m\u001b[43mdf\u001b[49m\u001b[43m)\u001b[49m\n\u001b[32m     62\u001b[39m \u001b[38;5;66;03m# Calculate cell temperature\u001b[39;00m\n\u001b[32m     63\u001b[39m cell_temp = \u001b[38;5;28mself\u001b[39m.calculate_cell_temperature(df[\u001b[33m'\u001b[39m\u001b[33mtemperature\u001b[39m\u001b[33m'\u001b[39m], irradiance)\n",
      "\u001b[36mFile \u001b[39m\u001b[32m~/CascadeProjects/energy-fault-prediction/notebooks/../src/solar_pv.py:26\u001b[39m, in \u001b[36mSolarPVSimulator.calculate_irradiance\u001b[39m\u001b[34m(self, df)\u001b[39m\n\u001b[32m     23\u001b[39m seasonal_factor = \u001b[32m1\u001b[39m - \u001b[32m0.3\u001b[39m * np.sin(\u001b[32m2\u001b[39m * np.pi * (df[\u001b[33m'\u001b[39m\u001b[33mday_of_year\u001b[39m\u001b[33m'\u001b[39m] + \u001b[32m81\u001b[39m) / \u001b[32m365\u001b[39m)\n\u001b[32m     25\u001b[39m \u001b[38;5;66;03m# Apply cloud effects\u001b[39;00m\n\u001b[32m---> \u001b[39m\u001b[32m26\u001b[39m cloud_effect = \u001b[32m1\u001b[39m - \u001b[43mdf\u001b[49m\u001b[43m[\u001b[49m\u001b[33;43m'\u001b[39;49m\u001b[33;43mcloud_cover\u001b[39;49m\u001b[33;43m'\u001b[39;49m\u001b[43m]\u001b[49m\n\u001b[32m     28\u001b[39m \u001b[38;5;66;03m# Combine factors\u001b[39;00m\n\u001b[32m     29\u001b[39m irradiance = base_irradiance * seasonal_factor * cloud_effect\n",
      "\u001b[36mFile \u001b[39m\u001b[32m~/CascadeProjects/energy-fault-prediction/venv/lib/python3.13/site-packages/pandas/core/frame.py:4102\u001b[39m, in \u001b[36mDataFrame.__getitem__\u001b[39m\u001b[34m(self, key)\u001b[39m\n\u001b[32m   4100\u001b[39m \u001b[38;5;28;01mif\u001b[39;00m \u001b[38;5;28mself\u001b[39m.columns.nlevels > \u001b[32m1\u001b[39m:\n\u001b[32m   4101\u001b[39m     \u001b[38;5;28;01mreturn\u001b[39;00m \u001b[38;5;28mself\u001b[39m._getitem_multilevel(key)\n\u001b[32m-> \u001b[39m\u001b[32m4102\u001b[39m indexer = \u001b[38;5;28;43mself\u001b[39;49m\u001b[43m.\u001b[49m\u001b[43mcolumns\u001b[49m\u001b[43m.\u001b[49m\u001b[43mget_loc\u001b[49m\u001b[43m(\u001b[49m\u001b[43mkey\u001b[49m\u001b[43m)\u001b[49m\n\u001b[32m   4103\u001b[39m \u001b[38;5;28;01mif\u001b[39;00m is_integer(indexer):\n\u001b[32m   4104\u001b[39m     indexer = [indexer]\n",
      "\u001b[36mFile \u001b[39m\u001b[32m~/CascadeProjects/energy-fault-prediction/venv/lib/python3.13/site-packages/pandas/core/indexes/base.py:3812\u001b[39m, in \u001b[36mIndex.get_loc\u001b[39m\u001b[34m(self, key)\u001b[39m\n\u001b[32m   3807\u001b[39m     \u001b[38;5;28;01mif\u001b[39;00m \u001b[38;5;28misinstance\u001b[39m(casted_key, \u001b[38;5;28mslice\u001b[39m) \u001b[38;5;129;01mor\u001b[39;00m (\n\u001b[32m   3808\u001b[39m         \u001b[38;5;28misinstance\u001b[39m(casted_key, abc.Iterable)\n\u001b[32m   3809\u001b[39m         \u001b[38;5;129;01mand\u001b[39;00m \u001b[38;5;28many\u001b[39m(\u001b[38;5;28misinstance\u001b[39m(x, \u001b[38;5;28mslice\u001b[39m) \u001b[38;5;28;01mfor\u001b[39;00m x \u001b[38;5;129;01min\u001b[39;00m casted_key)\n\u001b[32m   3810\u001b[39m     ):\n\u001b[32m   3811\u001b[39m         \u001b[38;5;28;01mraise\u001b[39;00m InvalidIndexError(key)\n\u001b[32m-> \u001b[39m\u001b[32m3812\u001b[39m     \u001b[38;5;28;01mraise\u001b[39;00m \u001b[38;5;167;01mKeyError\u001b[39;00m(key) \u001b[38;5;28;01mfrom\u001b[39;00m\u001b[38;5;250m \u001b[39m\u001b[34;01merr\u001b[39;00m\n\u001b[32m   3813\u001b[39m \u001b[38;5;28;01mexcept\u001b[39;00m \u001b[38;5;167;01mTypeError\u001b[39;00m:\n\u001b[32m   3814\u001b[39m     \u001b[38;5;66;03m# If we have a listlike key, _check_indexing_error will raise\u001b[39;00m\n\u001b[32m   3815\u001b[39m     \u001b[38;5;66;03m#  InvalidIndexError. Otherwise we fall through and re-raise\u001b[39;00m\n\u001b[32m   3816\u001b[39m     \u001b[38;5;66;03m#  the TypeError.\u001b[39;00m\n\u001b[32m   3817\u001b[39m     \u001b[38;5;28mself\u001b[39m._check_indexing_error(key)\n",
      "\u001b[31mKeyError\u001b[39m: 'cloud_cover'"
     ]
    }
   ],
   "source": [
    "# Initialize the generator\n",
    "generator = HybridSystemDataGenerator(seed=42)\n",
    "\n",
    "# Generate dataset\n",
    "df = generator.generate_dataset(\n",
    "    start_date='2023-01-01',\n",
    "    periods_years=2,\n",
    "    output_file='../data/hybrid_system_data.parquet'\n",
    ")\n",
    "\n",
    "print(f\"Generated dataset with {len(df)} rows and {len(df.columns)} features\")\n",
    "print(f\"Memory usage: {df.memory_usage().sum() / 1024**2:.2f} MB\")"
   ]
  },
  {
   "cell_type": "markdown",
   "metadata": {},
   "source": [
    "## Explore Generated Data\n",
    "\n",
    "Let's look at some key aspects of the generated data."
   ]
  },
  {
   "cell_type": "code",
   "execution_count": null,
   "metadata": {},
   "outputs": [],
   "source": [
    "# Plot solar generation vs load demand for a week\n",
    "week_data = df['2023-01-01':'2023-01-07']\n",
    "\n",
    "plt.figure(figsize=(15, 6))\n",
    "plt.plot(week_data.index, week_data['solar_power_output'], label='Solar Output (kW)')\n",
    "plt.plot(week_data.index, week_data['load_active_power'], label='Load Demand (kW)')\n",
    "plt.title('Solar Generation vs Load Demand - First Week of 2023')\n",
    "plt.xlabel('Date')\n",
    "plt.ylabel('Power (kW)')\n",
    "plt.legend()\n",
    "plt.grid(True)\n",
    "plt.show()"
   ]
  },
  {
   "cell_type": "code",
   "execution_count": null,
   "metadata": {},
   "outputs": [],
   "source": [
    "# Plot battery state of charge and fault events\n",
    "plt.figure(figsize=(15, 6))\n",
    "\n",
    "# Plot SOC\n",
    "plt.plot(week_data.index, week_data['battery_soc'] * 100, label='Battery SOC (%)')\n",
    "\n",
    "# Highlight fault periods\n",
    "fault_periods = week_data[week_data['fault_occurred']]\n",
    "plt.scatter(fault_periods.index, fault_periods['battery_soc'] * 100,\n",
    "           color='red', marker='x', s=100, label='Fault Events')\n",
    "\n",
    "plt.title('Battery State of Charge and Fault Events - First Week of 2023')\n",
    "plt.xlabel('Date')\n",
    "plt.ylabel('State of Charge (%)')\n",
    "plt.legend()\n",
    "plt.grid(True)\n",
    "plt.show()"
   ]
  },
  {
   "cell_type": "markdown",
   "metadata": {},
   "source": [
    "## Analyze Fault Distribution\n",
    "\n",
    "Let's look at the distribution of different types of faults in our dataset."
   ]
  },
  {
   "cell_type": "code",
   "execution_count": null,
   "metadata": {},
   "outputs": [],
   "source": [
    "# Count fault occurrences\n",
    "fault_counts = df[df['fault_occurred']]['fault_types'].value_counts()\n",
    "\n",
    "plt.figure(figsize=(12, 6))\n",
    "fault_counts.plot(kind='bar')\n",
    "plt.title('Distribution of Fault Types')\n",
    "plt.xlabel('Fault Type')\n",
    "plt.ylabel('Count')\n",
    "plt.xticks(rotation=45)\n",
    "plt.tight_layout()\n",
    "plt.show()\n",
    "\n",
    "# Print fault statistics\n",
    "total_hours = len(df)\n",
    "fault_hours = df['fault_occurred'].sum()\n",
    "print(f\"Total fault hours: {fault_hours}\")\n",
    "print(f\"System availability: {(1 - fault_hours/total_hours)*100:.2f}%\")"
   ]
  },
  {
   "cell_type": "markdown",
   "metadata": {},
   "source": [
    "## Save Feature Descriptions\n",
    "\n",
    "Let's create a reference of all features in our dataset."
   ]
  },
  {
   "cell_type": "code",
   "execution_count": null,
   "metadata": {},
   "outputs": [],
   "source": [
    "# Create feature descriptions\n",
    "feature_descriptions = pd.DataFrame({\n",
    "    'Feature': df.columns,\n",
    "    'Type': df.dtypes,\n",
    "    'Non_null_count': df.count(),\n",
    "    'Memory_usage': df.memory_usage(deep=True)[1:] / 1024  # KB\n",
    "})\n",
    "\n",
    "# Save to CSV\n",
    "feature_descriptions.to_csv('../data/feature_descriptions.csv')\n",
    "feature_descriptions.head(10)"
   ]
  }
 ],
 "metadata": {
  "kernelspec": {
   "display_name": "Python 3 (ipykernel)",
   "language": "python",
   "name": "python3"
  },
  "language_info": {
   "codemirror_mode": {
    "name": "ipython",
    "version": 3
   },
   "file_extension": ".py",
   "mimetype": "text/x-python",
   "name": "python",
   "nbconvert_exporter": "python",
   "pygments_lexer": "ipython3",
   "version": "3.13.2"
  }
 },
 "nbformat": 4,
 "nbformat_minor": 4
}
